{
 "cells": [
  {
   "cell_type": "markdown",
   "id": "e1934677",
   "metadata": {},
   "source": [
    "# Structural optimization assisted by machine-learning interatomic potentials\n",
    "\n",
    "In this tutorial, we will show how to perform structural optimization for large structures by using a machine-learning interatomic potential as a surrogate model to reduce the number of potential energy calculation."
   ]
  },
  {
   "cell_type": "markdown",
   "id": "337b1522",
   "metadata": {},
   "source": [
    "## Setting up the simulation\n",
    "\n",
    "As for MLACS, such simulations contains 3 ingredients\n",
    "- The system, which consist in an atomic system and it's associated potential\n",
    "- A minimization method\n",
    "- A machine-learning interatomic potential\n",
    "\n",
    "We will start this tutorial by demonstrating the simplest way to set up all these components"
   ]
  },
  {
   "cell_type": "markdown",
   "id": "44aa9d4c-bf74-445b-b89a-7f5f521b42c1",
   "metadata": {},
   "source": [
    "### Setting up the system\n",
    "\n",
    "The first component is the actual system to be simulated.\n",
    "In this tutorial, we will simulate vacanies in bulk aluminium with a EMT potential\n",
    "\n",
    "As input, we can use the `bulk` function of the ASE package and remove some atoms."
   ]
  },
  {
   "cell_type": "code",
   "execution_count": 1,
   "id": "e11046b4-b9c8-4206-8996-db690c02b941",
   "metadata": {
    "tags": []
   },
   "outputs": [],
   "source": [
    "from ase.build import bulk\n",
    "at = bulk(\"Al\", cubic=True).repeat(2)  # This create a 2x2x2 supercell of aluminium\n",
    "\n",
    "# Let's remove random atoms in the structure\n",
    "import numpy as np\n",
    "rng = np.random.default_rng()\n",
    "for _ in range(3):\n",
    "    at.pop(rng.integers(0, len(at)))"
   ]
  },
  {
   "cell_type": "markdown",
   "id": "4229d611-6b0f-4e9a-874a-d41ceda6576a",
   "metadata": {},
   "source": [
    "For the potential, we can use the EMT implementation in ASE"
   ]
  },
  {
   "cell_type": "code",
   "execution_count": 2,
   "id": "c81bad2e-c990-44f3-917b-a69d171d99a3",
   "metadata": {
    "tags": []
   },
   "outputs": [],
   "source": [
    "from ase.calculators.emt import EMT\n",
    "calc = EMT()"
   ]
  },
  {
   "cell_type": "markdown",
   "id": "2336bb20",
   "metadata": {},
   "source": [
    "### Setting up the state\n",
    "\n",
    "The second ingredient for a MLACS simulation is the state to be sampled.\n",
    "Usually, the state is defined by the thermostat/barostat used in the molecular dynamics simulation\n",
    "\n",
    "We will start by setting up some parameters"
   ]
  },
  {
   "cell_type": "code",
   "execution_count": 3,
   "id": "ebdea854-4149-4394-9fdc-2908c48ff37e",
   "metadata": {
    "tags": []
   },
   "outputs": [],
   "source": [
    "min_style = 'cg'  # We will use conjugate gradient to minimize\n",
    "pressure = 0.0  # We will also optimize the cell at 0 pressure\n",
    "etol = 1e-6  # Energy criterion\n",
    "ftol = 1e-2  # Forces criterion\n",
    "stol = 1e-2  # Stress criterion\n",
    "etol_state = 1e-8  # Energy criterion in the MLIP minimization\n",
    "ftol_state = 1e-5  # Forces criterion in the MLIP minimization\n",
    "nsteps = 1000\n",
    "nsteps_eq = 500"
   ]
  },
  {
   "cell_type": "markdown",
   "id": "b6b491a8-7156-4bf5-8115-81159090525d",
   "metadata": {},
   "source": [
    "We also have to provide the path to the LAMMPS binary.\n",
    "This can be set up using a bash command\n",
    "```bash\n",
    "export ASE_LAMMPSRUN_COMMAND=~/.local/bin/lmp\n",
    "```\n",
    "or directly in python as we will do here"
   ]
  },
  {
   "cell_type": "code",
   "execution_count": 4,
   "id": "0533aba6-361d-479a-8146-6e388594673e",
   "metadata": {
    "tags": []
   },
   "outputs": [],
   "source": [
    "import os\n",
    "os.environ[\"ASE_LAMMPSRUN_COMMAND\"] = \"lmp\""
   ]
  },
  {
   "cell_type": "markdown",
   "id": "7c634df1-d479-47e7-918a-b05556ade30d",
   "metadata": {},
   "source": [
    "Now, we can import the state, that will consist here in a LAMMPS optimizer with the parameters defined earlier."
   ]
  },
  {
   "cell_type": "code",
   "execution_count": 5,
   "id": "5ec37692-c523-4f62-bed0-0bdd3c50d696",
   "metadata": {
    "tags": []
   },
   "outputs": [],
   "source": [
    "from mlacs.state import OptimizeLammpsState\n",
    "state = OptimizeLammpsState(min_style=min_style,\n",
    "                            pressure=pressure,\n",
    "                            etol=etol_state,\n",
    "                            ftol=ftol_state,\n",
    "                            nsteps=nsteps,\n",
    "                            nsteps_eq=nsteps_eq)"
   ]
  },
  {
   "cell_type": "markdown",
   "id": "78f40af2-3cc9-41ae-8e54-d200236ec0d8",
   "metadata": {},
   "source": [
    "### Setting up the machine-learning interatomic potential\n",
    "\n",
    "And the final ingredient is the machine-learning interatomic potential that will drive the molecular dynamics and will be updated from the reference data gathered.\n",
    "\n",
    "In this example, we will use a SNAP potential with a parameter $2J_{\\mathrm{max}}$ of 8.\n",
    "The setting up of a SNAP potential is done in two steps:\n",
    "* define the descriptor"
   ]
  },
  {
   "cell_type": "code",
   "execution_count": 6,
   "id": "3f66172a-c5f5-4c2a-a2fd-cf520ac19042",
   "metadata": {
    "tags": []
   },
   "outputs": [],
   "source": [
    "from mlacs.mlip import SnapDescriptor\n",
    "parameters = {\"twojmax\": 8}\n",
    "descriptor = SnapDescriptor(at,\n",
    "                            parameters=parameters)"
   ]
  },
  {
   "cell_type": "markdown",
   "id": "00276493-6713-4420-b1c6-365a3bea3659",
   "metadata": {},
   "source": [
    "* Define the model\n",
    "\n",
    "To improve on the convergence, we will train our potential so that it's getting better and better as we get closer to the minima.\n",
    "To do this, we will apply some weights for the configurations, in order to give more importance to the configurations close to the minima and less to the one far from it.\n",
    "This can be done by using a `WeightingPolicy` object which gives more importance to the last configurations added to the dataset.\n",
    "We will use weights given by $i^{10}$ where i is the index of the simulation in the dataset (starting at i=1)."
   ]
  },
  {
   "cell_type": "code",
   "execution_count": 7,
   "id": "3b35b68a-6e61-48cd-a693-88d6aef263c0",
   "metadata": {
    "tags": []
   },
   "outputs": [],
   "source": [
    "from mlacs.mlip import LinearPotential, IncreasingWeight\n",
    "power = 10\n",
    "energy_coefficient = 1e-5\n",
    "forces_coefficient = 1\n",
    "stress_coefficient = 10\n",
    "weight = IncreasingWeight(power=10,\n",
    "                          energy_coefficient=energy_coefficient,\n",
    "                          forces_coefficient=forces_coefficient,\n",
    "                          stress_coefficient=stress_coefficient)\n",
    "mlip = LinearPotential(descriptor, weight=weight)"
   ]
  },
  {
   "cell_type": "markdown",
   "id": "5d31c7b9-726f-4346-b9c2-5a6a6bff34f1",
   "metadata": {},
   "source": [
    "## Gathering everything and launching the simulation\n",
    "\n",
    "Now that everything is set up, we can gather everything into a `MlMinimizer` object"
   ]
  },
  {
   "cell_type": "code",
   "execution_count": 8,
   "id": "b061ff24-4d22-435f-8cce-8a02f1580ef9",
   "metadata": {
    "tags": []
   },
   "outputs": [
    {
     "name": "stderr",
     "output_type": "stream",
     "text": [
      "===============================================================================\n",
      "            On-the-fly Machine-Learning Assisted Canonical Sampling\n",
      "            *******************************************************\n",
      "\n",
      "                      Copyright (C) 2022-2024 MLACS group.\n",
      "                    MLACS comes with ABSOLUTELY NO WARRANTY.\n",
      "               This package is distributed under the terms of the\n",
      "                   GNU General Public License, see LICENSE.md\n",
      "                    or http://www.gnu.org.copyleft/gpl.txt.\n",
      "\n",
      "                      MLACS is common project of the CEA,\n",
      "           Université de Liège, Université du Québec à Trois-Rivières\n",
      "                 and other collaborators, see CONTRIBUTORS.md.\n",
      "                  Please read ACKNOWLEDGMENTS.md for suggested\n",
      "                      acknowledgments of the MLACS effort.\n",
      "===============================================================================\n",
      "\n",
      "version 0.0.13\n",
      "\n",
      "date: 31-10-2024 14:04:45\n",
      "\n",
      "\n",
      "\n",
      "===============================================================================\n",
      "                       Recap of the simulation parameters\n",
      "\n",
      "Recap of the states\n",
      "*******************\n",
      "State 1/1 :\n",
      "Geometry optimization as implemented in LAMMPS\n",
      "   target pressure: 0.0\n",
      "   min_style: cg\n",
      "   energy tolerance: 1e-08\n",
      "   forces tolerance: 1e-05\n",
      "\n",
      "\n",
      "\n",
      "\n",
      "Recap of the calculator\n",
      "***********************\n",
      "True potential parameters:\n",
      "Calculator : emt\n",
      "parameters :\n",
      "\n",
      "\n",
      "\n",
      "Recap of the MLIP\n",
      "*****************\n",
      "Linear potential\n",
      "Parameters:\n",
      "-----------\n",
      "Fit method :            ols\n",
      "\n",
      "Descriptor used in the potential:\n",
      "SNAP descriptor\n",
      "---------------\n",
      "Elements :\n",
      "Al\n",
      "Parameters :\n",
      "rcut                5.0\n",
      "chemflag            0\n",
      "twojmax             8\n",
      "rfac0               0.99363\n",
      "rmin0               0.0\n",
      "switchflag          1\n",
      "bzeroflag           1\n",
      "wselfallflag        0\n",
      "dimension           56\n",
      "\n",
      "\n",
      "===============================================================================\n",
      "                            Starting the simulation\n",
      "\n",
      "\n",
      "Structure optimization assisted by machine-learning\n",
      "   Energy tolerance: 1e-06 eV/at\n",
      "   Forces tolerance: 0.01 eV/angs\n",
      "   Stress tolerance: 0.01 GPa\n",
      "\n",
      "\n"
     ]
    }
   ],
   "source": [
    "from mlacs import MlMinimizer\n",
    "dyn = MlMinimizer(at,\n",
    "                  state,\n",
    "                  calc,\n",
    "                  mlip,\n",
    "                  etol=etol,\n",
    "                  ftol=ftol,\n",
    "                  stol=stol)"
   ]
  },
  {
   "cell_type": "markdown",
   "id": "19de10fb-2945-4a7c-843b-5feb5baa9e9c",
   "metadata": {},
   "source": [
    "and launch the simulation for 20 steps"
   ]
  },
  {
   "cell_type": "code",
   "execution_count": 9,
   "id": "9413020c-3b07-4e4b-aa31-a84b51738cc1",
   "metadata": {
    "tags": []
   },
   "outputs": [
    {
     "name": "stderr",
     "output_type": "stream",
     "text": [
      "===============================================================================\n",
      "Step 0\n",
      "Running initial step\n",
      "There are 1 unique configuration in the states \n",
      "Computation done, creating trajectories\n",
      "\n",
      "Computing energy with true potential on training configurations\n",
      "\n",
      "===============================================================================\n",
      "Step 1\n",
      "\n",
      "Equilibration step for state 1, configurations 1 for this state\n",
      "\n",
      "Training new MLIP\n",
      "\n",
      "Number of configurations for training: 2\n",
      "Number of atomic environments for training: 58\n",
      "\n",
      "Using Increasing weighting\n",
      "Weighted RMSE Energy    0.0001 eV/at\n",
      "Weighted MAE Energy     0.0001 eV/at\n",
      "Weighted RMSE Forces    0.0011 eV/angs\n",
      "Weighted MAE Forces     0.0007 eV/angs\n",
      "Weighted RMSE Stress    0.0001 GPa\n",
      "Weighted MAE Stress     0.0000 GPa\n",
      "\n",
      "Running MLMD\n",
      " -> Starting from first atomic configuration\n",
      "State 1/1 has been launched\n",
      "Computing energy with the True potential\n",
      "Energy difference :  2.619 eV/at\n",
      "Maximum absolute force : 0.0094487 eV/angs\n",
      "Maximum stress tensor difference : 0.16906 GPa\n",
      "\n",
      "===============================================================================\n",
      "Step 2\n",
      "\n",
      "Equilibration step for state 1, configurations 2 for this state\n",
      "\n",
      "Training new MLIP\n",
      "\n",
      "Number of configurations for training: 3\n",
      "Number of atomic environments for training: 87\n",
      "\n",
      "Using Increasing weighting\n",
      "Weighted RMSE Energy    0.0004 eV/at\n",
      "Weighted MAE Energy     0.0004 eV/at\n",
      "Weighted RMSE Forces    0.0001 eV/angs\n",
      "Weighted MAE Forces     0.0000 eV/angs\n",
      "Weighted RMSE Stress    0.0001 GPa\n",
      "Weighted MAE Stress     0.0000 GPa\n",
      "\n",
      "Running MLMD\n",
      " -> Starting from first atomic configuration\n",
      "State 1/1 has been launched\n",
      "Computing energy with the True potential\n",
      "Energy difference : 5.2068e-05 eV/at\n",
      "Maximum absolute force : 0.0028278 eV/angs\n",
      "Maximum stress tensor difference : 0.15035 GPa\n",
      "\n",
      "===============================================================================\n",
      "Step 3\n",
      "\n",
      "Equilibration step for state 1, configurations 3 for this state\n",
      "\n",
      "Training new MLIP\n",
      "\n",
      "Number of configurations for training: 4\n",
      "Number of atomic environments for training: 116\n",
      "\n",
      "Using Increasing weighting\n",
      "Weighted RMSE Energy    0.0000 eV/at\n",
      "Weighted MAE Energy     0.0000 eV/at\n",
      "Weighted RMSE Forces    0.0001 eV/angs\n",
      "Weighted MAE Forces     0.0000 eV/angs\n",
      "Weighted RMSE Stress    0.0001 GPa\n",
      "Weighted MAE Stress     0.0000 GPa\n",
      "\n",
      "Running MLMD\n",
      " -> Starting from first atomic configuration\n",
      "State 1/1 has been launched\n",
      "Computing energy with the True potential\n",
      "Energy difference : 0.0002691 eV/at\n",
      "Maximum absolute force : 0.002296 eV/angs\n",
      "Maximum stress tensor difference : 0.073075 GPa\n",
      "\n",
      "===============================================================================\n",
      "Step 4\n",
      "\n",
      "Equilibration step for state 1, configurations 4 for this state\n",
      "\n",
      "Training new MLIP\n",
      "\n",
      "Number of configurations for training: 5\n",
      "Number of atomic environments for training: 145\n",
      "\n",
      "Using Increasing weighting\n",
      "Weighted RMSE Energy    0.0000 eV/at\n",
      "Weighted MAE Energy     0.0000 eV/at\n",
      "Weighted RMSE Forces    0.0001 eV/angs\n",
      "Weighted MAE Forces     0.0000 eV/angs\n",
      "Weighted RMSE Stress    0.0001 GPa\n",
      "Weighted MAE Stress     0.0000 GPa\n",
      "\n",
      "Running MLMD\n",
      " -> Starting from first atomic configuration\n",
      "State 1/1 has been launched\n",
      "Computing energy with the True potential\n",
      "Energy difference : 3.9882e-06 eV/at\n",
      "Maximum absolute force : 0.00048199 eV/angs\n",
      "Maximum stress tensor difference : 0.0019739 GPa\n",
      "\n",
      "===============================================================================\n",
      "Step 5\n",
      "\n",
      "Equilibration step for state 1, configurations 5 for this state\n",
      "\n",
      "Training new MLIP\n",
      "\n",
      "Number of configurations for training: 6\n",
      "Number of atomic environments for training: 174\n",
      "\n",
      "Using Increasing weighting\n",
      "Weighted RMSE Energy    0.0000 eV/at\n",
      "Weighted MAE Energy     0.0000 eV/at\n",
      "Weighted RMSE Forces    0.0000 eV/angs\n",
      "Weighted MAE Forces     0.0000 eV/angs\n",
      "Weighted RMSE Stress    0.0001 GPa\n",
      "Weighted MAE Stress     0.0000 GPa\n",
      "\n",
      "Running MLMD\n",
      " -> Starting from first atomic configuration\n",
      "State 1/1 has been launched\n",
      "Computing energy with the True potential\n",
      "Energy difference : 2.2213e-06 eV/at\n",
      "Maximum absolute force : 0.0012512 eV/angs\n",
      "Maximum stress tensor difference : 0.0012699 GPa\n",
      "\n",
      "===============================================================================\n",
      "Step 6\n",
      "\n",
      "Equilibration step for state 1, configurations 6 for this state\n",
      "\n",
      "Training new MLIP\n",
      "\n",
      "Number of configurations for training: 7\n",
      "Number of atomic environments for training: 203\n",
      "\n",
      "Using Increasing weighting\n",
      "Weighted RMSE Energy    0.0000 eV/at\n",
      "Weighted MAE Energy     0.0000 eV/at\n",
      "Weighted RMSE Forces    0.0000 eV/angs\n",
      "Weighted MAE Forces     0.0000 eV/angs\n",
      "Weighted RMSE Stress    0.0001 GPa\n",
      "Weighted MAE Stress     0.0000 GPa\n",
      "\n",
      "Running MLMD\n",
      " -> Starting from first atomic configuration\n",
      "State 1/1 has been launched\n",
      "Computing energy with the True potential\n",
      "Energy difference : 2.8182e-06 eV/at\n",
      "Maximum absolute force : 0.00018546 eV/angs\n",
      "Maximum stress tensor difference : 0.0013483 GPa\n",
      "\n",
      "===============================================================================\n",
      "Step 7\n",
      "\n",
      "Equilibration step for state 1, configurations 7 for this state\n",
      "\n",
      "Training new MLIP\n",
      "\n",
      "Number of configurations for training: 8\n",
      "Number of atomic environments for training: 232\n",
      "\n",
      "Using Increasing weighting\n",
      "Weighted RMSE Energy    0.0000 eV/at\n",
      "Weighted MAE Energy     0.0000 eV/at\n",
      "Weighted RMSE Forces    0.0000 eV/angs\n",
      "Weighted MAE Forces     0.0000 eV/angs\n",
      "Weighted RMSE Stress    0.0001 GPa\n",
      "Weighted MAE Stress     0.0000 GPa\n",
      "\n",
      "Running MLMD\n",
      " -> Starting from first atomic configuration\n",
      "State 1/1 has been launched\n",
      "Computing energy with the True potential\n",
      "Energy difference : 2.1733e-06 eV/at\n",
      "Maximum absolute force : 0.00051055 eV/angs\n",
      "Maximum stress tensor difference : 0.0010896 GPa\n",
      "\n",
      "===============================================================================\n",
      "Step 8\n",
      "\n",
      "Equilibration step for state 1, configurations 8 for this state\n",
      "\n",
      "Training new MLIP\n",
      "\n",
      "Number of configurations for training: 9\n",
      "Number of atomic environments for training: 261\n",
      "\n",
      "Using Increasing weighting\n",
      "Weighted RMSE Energy    0.0000 eV/at\n",
      "Weighted MAE Energy     0.0000 eV/at\n",
      "Weighted RMSE Forces    0.0000 eV/angs\n",
      "Weighted MAE Forces     0.0000 eV/angs\n",
      "Weighted RMSE Stress    0.0000 GPa\n",
      "Weighted MAE Stress     0.0000 GPa\n",
      "\n",
      "Running MLMD\n",
      " -> Starting from first atomic configuration\n",
      "State 1/1 has been launched\n",
      "Computing energy with the True potential\n",
      "Energy difference : 6.3877e-07 eV/at\n",
      "Maximum absolute force : 0.00044712 eV/angs\n",
      "Maximum stress tensor difference : 0.0010119 GPa\n",
      "\n",
      "\n",
      "===============================================================================\n",
      "              Convergence criteria reached, stoping the simulation\n",
      "===============================================================================\n",
      "\n",
      "===============================================================================\n",
      "                      Copyright (C) 2022-2024 MLACS group.\n",
      "                    MLACS comes with ABSOLUTELY NO WARRANTY.\n",
      "               This package is distributed under the terms of the\n",
      "                   GNU General Public License, see LICENSE.md\n",
      "                    or http://www.gnu.org.copyleft/gpl.txt.\n",
      "\n",
      "                      MLACS is common project of the CEA,\n",
      "           Université de Liège, Université du Québec à Trois-Rivières\n",
      "                 and other collaborators, see CONTRIBUTORS.md.\n",
      "===============================================================================\n",
      "\n",
      "===============================================================================\n",
      "                  Suggested acknowledgments of the MLACS usage\n",
      "                  ********************************************\n",
      "\n",
      "The MLACS theory and algorithm\n",
      "A. Castellano, F. Bottin, J. Bouchet, A. Levitt, G. Stoltz\n",
      "Phys. Rev. B 106, L161110 (2022)\n",
      "\n",
      "The MLACS package\n",
      "A. Castellano, R. Béjaud, P. Richard, O. Nadeau, G. Geneste, \n",
      "G. Antonius, J. Bouchet, A. Levitt, G. Stoltz, F. Bottin\n",
      "(To be submitted (2024))\n",
      "===============================================================================\n"
     ]
    }
   ],
   "source": [
    "dyn.run(20)"
   ]
  },
  {
   "cell_type": "markdown",
   "id": "9c2a2183-8d5b-478a-bc52-06167c269d03",
   "metadata": {},
   "source": [
    "And that's it !\n",
    "\n",
    "The simulations, computed with the reference potential, can be found in the `Trajectory.traj` file"
   ]
  },
  {
   "cell_type": "code",
   "execution_count": 10,
   "id": "73ab9e34-ef38-4076-b783-09e62a8b5846",
   "metadata": {
    "tags": []
   },
   "outputs": [],
   "source": [
    "from ase.io import read\n",
    "confs = read(\"Trajectory.traj\", index=\":\")"
   ]
  },
  {
   "cell_type": "markdown",
   "id": "4c2992bf-ad20-4247-80ce-22666e322dd8",
   "metadata": {},
   "source": [
    "And we can plot for example the energy along the trajectory to observe that we reach the minimum"
   ]
  },
  {
   "cell_type": "code",
   "execution_count": 13,
   "id": "5f0b2ca1-39ec-4a00-a926-9fa2159f7269",
   "metadata": {
    "tags": []
   },
   "outputs": [
    {
     "data": {
      "image/png": "[encoded data removed]",
      "text/plain": [
       "<Figure size 2000x1000 with 1 Axes>"
      ]
     },
     "metadata": {},
     "output_type": "display_data"
    }
   ],
   "source": [
    "import numpy as np\n",
    "import matplotlib.pyplot as plt\n",
    "from mlacs.utilities.plots import init_rcParams\n",
    "\n",
    "x = np.arange(len(confs))\n",
    "energies = np.array([a.get_potential_energy() / len(a) for a in confs])\n",
    "\n",
    "fig = plt.figure(figsize=(20, 10), constrained_layout=True)\n",
    "init_rcParams()\n",
    "ax0 = fig.add_subplot()\n",
    "ax0.set_xlabel(\"Iteration\")\n",
    "ax0.set_ylabel(r\"$|\\Delta E|$ [meV/at]\")  # Potential energy difference\n",
    "Delta_E = energies - energies[-1]\n",
    "ax0.plot(x[:-1], np.abs(Delta_E[:-1]), marker=\"o\")  # Do not plot last iteration (zero by construction)\n",
    "ax0.set_yscale(\"log\")\n",
    "plt.show()"
   ]
  },
  {
   "cell_type": "code",
   "execution_count": null,
   "id": "051bb634",
   "metadata": {},
   "outputs": [],
   "source": []
  }
 ],
 "metadata": {
  "kernelspec": {
   "display_name": "Python 3 (ipykernel)",
   "language": "python",
   "name": "python3"
  },
  "language_info": {
   "codemirror_mode": {
    "name": "ipython",
    "version": 3
   },
   "file_extension": ".py",
   "mimetype": "text/x-python",
   "name": "python",
   "nbconvert_exporter": "python",
   "pygments_lexer": "ipython3",
   "version": "3.9.18"
  }
 },
 "nbformat": 4,
 "nbformat_minor": 5
}
