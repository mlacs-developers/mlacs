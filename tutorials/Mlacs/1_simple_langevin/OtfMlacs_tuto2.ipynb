{
 "cells": [
  {
   "cell_type": "markdown",
   "id": "97ac47b6",
   "metadata": {},
   "source": [
    "# Using MLACS with the Multi-Bennett Aceptance Ratio (MBAR)\n",
    "\n",
    "In this tutorial, we will show how to setup a simulation to sample multiple same NPT ensemble. In this case, the sampled configurations are reweighted \n",
    "To keep the example simple, we will use a simple Copper bulk with the EMT potential as reference."
   ]
  },
  {
   "cell_type": "markdown",
   "id": "e2d5a1ae",
   "metadata": {},
   "source": [
    "## Setting up the simulation\n",
    "\n",
    "In this we will set up MLACS with:\n",
    "- The system, which consist in an atomic system and it's associated reference potential\n",
    "- 5 states to be sampled\n",
    "- A machine-learning interatomic potential and with the MBAR procedure."
   ]
  },
  {
   "cell_type": "markdown",
   "id": "e2244319",
   "metadata": {},
   "source": [
    "### Setting up the system\n",
    "\n",
    "The first component is the actual system to be simulated.\n",
    "In this tutorial, we will simulate a vacancy in copper cristal with a EMT potential.\n",
    "\n",
    "As input, we can use the `bulk` function of the ASE package."
   ]
  },
  {
   "cell_type": "code",
   "execution_count": 4,
   "id": "d34e9d28",
   "metadata": {},
   "outputs": [
    {
     "data": {
      "text/plain": [
       "255"
      ]
     },
     "execution_count": 4,
     "metadata": {},
     "output_type": "execute_result"
    }
   ],
   "source": [
    "from ase.build import bulk\n",
    "at = bulk(\"Cu\", cubic=True).repeat(4)  # This create a 4x4x4 supercell of copper\n",
    "at.pop(0)                              # Creation of the vacancy"
   ]
  },
  {
   "cell_type": "markdown",
   "id": "c97177eb",
   "metadata": {},
   "source": [
    "For the potential, we can use the EMT implementation in ASE"
   ]
  },
  {
   "cell_type": "code",
   "execution_count": 5,
   "id": "e08983f3",
   "metadata": {},
   "outputs": [],
   "source": [
    "from ase.calculators.emt import EMT\n",
    "calc = EMT()"
   ]
  },
  {
   "cell_type": "markdown",
   "id": "5fe77ebb",
   "metadata": {},
   "source": [
    "### Setting up the states\n",
    "\n",
    "The second ingredient for a MLACS simulation is the state to be sampled. The state define the thermodynamic ensembles to be sampled. A good strategy is to sample the same state multiple times. "
   ]
  },
  {
   "cell_type": "code",
   "execution_count": null,
   "id": "4b2aaab9",
   "metadata": {},
   "outputs": [],
   "source": []
  }
 ],
 "metadata": {
  "kernelspec": {
   "display_name": "Python 3 (ipykernel)",
   "language": "python",
   "name": "python3"
  },
  "language_info": {
   "codemirror_mode": {
    "name": "ipython",
    "version": 3
   },
   "file_extension": ".py",
   "mimetype": "text/x-python",
   "name": "python",
   "nbconvert_exporter": "python",
   "pygments_lexer": "ipython3",
   "version": "3.7.5"
  }
 },
 "nbformat": 4,
 "nbformat_minor": 5
}
