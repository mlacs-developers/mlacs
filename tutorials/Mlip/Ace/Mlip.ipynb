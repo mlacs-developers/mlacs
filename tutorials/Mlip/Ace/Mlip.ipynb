{
 "cells": [
  {
   "cell_type": "markdown",
   "id": "a469c076-a7cd-4082-8250-744ea86e5798",
   "metadata": {
    "tags": []
   },
   "source": [
    "# Training an Atomic Cluster Expansion Potential"
   ]
  },
  {
   "cell_type": "markdown",
   "id": "397143c6-4250-432e-ba4f-ae03da44e0de",
   "metadata": {},
   "source": [
    "    Documentation
    -------------
    Refs : 
           [1]. https://journals.aps.org/prb/abstract/10.1103/PhysRevB.99.014104
           [2]. https://journals.aps.org/prmaterials/abstract/10.1103/PhysRevMaterials.6.013804
           [3]. https://journals.aps.org/prmaterials/abstract/10.1103/PhysRevMaterials.7.043801
    bconf_dict : Defines the process from atomic sites to properties
     Definition of basis function phi_v(r) : eq.20 of [1]
     phi_v(r) to atomic base A_iv : eq.17 of [1]
     A_iv to 'descriptors' B_inl^(K) : eq.28 to 32 of [1]
     B_inl^(K) to properties phi_i^(p) : eq.8 of [2]
     phi_i^(p) to E_i, F_i : eq.4 and eq. B10 of [2]
     Appendix B of [2] gives all of this information
     phi_nlm : One particle basis function
     a_nlm : Atomic bases
     A_nlm : Many-body atomic bases
     B_nlL = Invariant many-body atomic bases
     phi^p = Atomic properties
     F = Embedding function
     
    bconf_dict['bonds']: Define the radial part of phi_nlm, 
                         radparameters is lambda for Exponentially-scaled Chebyshev polynomials
                         See [2] eq. C1, C5, C6
    bconf_dict['functions']: From eq. B4 of [2] or eq. 28 to 32 of [1]
       - nradmax_by_orders[i]: Maximal value of n for each orders of nu
       - lmax_by_orders[i]: Maximal value of l for each order of nu
         Table 1 of [3] gives examples for these
    bconf_dict['embeddings']: See eq. 4 of [2]. 
      - ndensity is P
      - npot define F
      - fs_parameters define the parameters of F
        In FinnisSinclairShiftedScaled with ndensity=2: 
            F = a1 phi_i^a2 + a3(phi_i^2)^(a4)
        where ai correspond to fs_parameters[i]
    loss_dict: The cost function we are minimizing
      L = (1-kappa) Delta_E + kappa Delta_F + Delta_co + Delta_rad
      See eq.E1 to E3 in ref[2] for the complete equation
    
    fitting_dict: How the minimization is done
      - weighting: Each conf has a predefined weight my MBAR() or uniform weight
      - maxiter: Maximal number of iteration before the end
      - fit_cycles: Expected number of fitting cycles to do
      - repulsion: As seen in [2] appendix C, a core repulsion is added for short distance
      - optimizer: The algorithm we use to minimize. BFGS seems to give the best results
      - optimizer_options: Instead of these tol, I recommend using tolerance on energy and forces.
          disp: Write information about the fitting
          gtol: Tolerance on the loss function
          xrtol: Relative tolerance on the loss function
    
    backend_dict:
      - evaluator: Even using only CPU, tensorpot is significantly faster than scipy
      - parallel_mode: How the parallelisation is done
      - n_workers: Number of procs
      - batch_size: Batch size for each minimization
      - display_step: Display the information at every X steps
    FAQ : If you get an error related to structdborm : It means the dataframe.pckl.gzip could not be found
",
   ]
  },
  }
 ],
 "metadata": {
  "kernelspec": {
   "display_name": "Python 3 (ipykernel)",
   "language": "python",
   "name": "python3"
  },
  "language_info": {
   "codemirror_mode": {
    "name": "ipython",
    "version": 3
   },
   "file_extension": ".py",
   "mimetype": "text/x-python",
   "name": "python",
   "nbconvert_exporter": "python",
   "pygments_lexer": "ipython3",
   "version": "3.10.2"
  }
 },
 "nbformat": 4,
 "nbformat_minor": 5
}
