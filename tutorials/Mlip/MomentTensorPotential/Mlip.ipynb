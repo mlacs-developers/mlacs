{
 "cells": [
  {
   "cell_type": "markdown",
   "id": "a469c076-a7cd-4082-8250-744ea86e5798",
   "metadata": {
    "tags": []
   },
   "source": [
    "# Training a Moment Tensor Potential model"
   ]
  },
  {
   "cell_type": "markdown",
   "id": "397143c6-4250-432e-ba4f-ae03da44e0de",
   "metadata": {},
   "source": [
    "In this tutorial, we will see how to train a machine-learning interatomic potential with the MTP model"
   ]
  },
  {
   "cell_type": "markdown",
   "id": "996cc613-26c7-4dda-903d-d0c05a9fde45",
   "metadata": {},
   "source": [
    "As for the SNAP example, we need to export the path to the LAMMPS binary with\n",
    "```bash\n",
    "export ASE_LAMMPSRUN_COMMAND=/path/to/lmp_serial\n",
    "```\n",
    "or directly inside the python script as we will do here"
   ]
  },
  {
   "cell_type": "code",
   "execution_count": 1,
   "id": "3df13f5e-3234-47bd-b72f-9e3751aedefd",
   "metadata": {
    "tags": []
   },
   "outputs": [],
   "source": [
    "import os\n",
    "\n",
    "os.environ[\"ASE_LAMMPSRUN_COMMAND\"] = \"~/.local/bin/lmp\""
   ]
  },
  {
   "cell_type": "markdown",
   "id": "61644e9a-0e4f-430f-8dd5-3544cfd50ca8",
   "metadata": {},
   "source": [
    "Once this is done, we can open the dataset using the io module of ASE"
   ]
  },
  {
   "cell_type": "code",
   "execution_count": 2,
   "id": "0c95410d-3417-4705-bd67-67e8d2f5a2f2",
   "metadata": {
    "tags": []
   },
   "outputs": [],
   "source": [
    "from ase.io import read\n",
    "\n",
    "configurations = read(\"../Data/Silicon.traj\", index=\":\")"
   ]
  },
  {
   "cell_type": "markdown",
   "id": "c984aadd-c805-4e52-87f9-6306958907f7",
   "metadata": {
    "tags": []
   },
   "source": [
    "This dataset correspond to 20 configurations of crystaline Silicon in a 2x2x2 supercell with displacements"
   ]
  },
  {
   "cell_type": "code",
   "execution_count": 3,
   "id": "4b6451b3-5116-49ae-9ba3-a4283c24b2b2",
   "metadata": {
    "tags": []
   },
   "outputs": [
    {
     "name": "stdout",
     "output_type": "stream",
     "text": [
      "Atoms(symbols='Si64', pbc=True, cell=[10.873553019744607, 10.873553019744607, 10.873553019744607], momenta=..., calculator=SinglePointCalculator(...))\n",
      "20\n"
     ]
    }
   ],
   "source": [
    "print(configurations[0])\n",
    "print(len(configurations))"
   ]
  },
  {
   "cell_type": "markdown",
   "id": "ee557d97-00d2-47ba-8536-1ab41e82fa56",
   "metadata": {},
   "source": [
    "For the MTP potential, the descriptor and model are handled directly with the the MLIP package.\n",
    "For this kind of potential, we only need to import the MomentTensorPotential"
   ]
  },
  {
   "cell_type": "code",
   "execution_count": 4,
   "id": "83f54a04-bd84-4bf0-b0f6-01b4581b3c0b",
   "metadata": {
    "tags": []
   },
   "outputs": [],
   "source": [
    "from mlacs.mlip import MomentTensorPotential"
   ]
  },
  {
   "cell_type": "markdown",
   "id": "ea10cb51-c31a-4c16-ae66-7070943889f1",
   "metadata": {},
   "source": [
    "To initialize the descriptor, we need to give it some parameters."
   ]
  },
  {
   "cell_type": "code",
   "execution_count": 5,
   "id": "28d8b90c-9381-4eea-9292-c48cdca58b9b",
   "metadata": {
    "tags": []
   },
   "outputs": [],
   "source": [
    "mtp_params = dict(max_dist=4.5,\n",
    "                  min_dist=1.5,\n",
    "                  level=4)\n",
    "fit_params = dict(max_iter=50,\n",
    "                  bfgs_conv_tol=1e-3)"
   ]
  },
  {
   "cell_type": "markdown",
   "id": "bdef5ac7-4a11-45a6-a019-aaeb729d21e4",
   "metadata": {
    "tags": []
   },
   "source": [
    "We also need to define the path to the mtp binary"
   ]
  },
  {
   "cell_type": "code",
   "execution_count": 13,
   "id": "04812d20-c3d7-4bca-b1c5-3b37a5889902",
   "metadata": {
    "tags": []
   },
   "outputs": [],
   "source": [
    "mlpbin = \"/Users/alois/.local/bin/mlp\""
   ]
  },
  {
   "cell_type": "markdown",
   "id": "a8a08d45-e50b-442f-97b7-3d453aaa1232",
   "metadata": {},
   "source": [
    "We can now initalize our model with this descriptor"
   ]
  },
  {
   "cell_type": "code",
   "execution_count": 14,
   "id": "1b2aa5b9-fa4e-4958-ab42-5b71a7a21c62",
   "metadata": {
    "tags": []
   },
   "outputs": [],
   "source": [
    "mlip = MomentTensorPotential(configurations[0],\n",
    "                             mlpbin,\n",
    "                             mtp_parameters=mtp_params,\n",
    "                             fit_parameters=fit_params,\n",
    "                             energy_coefficient=1.0,\n",
    "                             forces_coefficient=1.0,\n",
    "                             stress_coefficient=1.0)"
   ]
  },
  {
   "cell_type": "markdown",
   "id": "bd3e2960-4d79-4aee-80c9-bfa79f44c6c4",
   "metadata": {},
   "source": [
    "We can check the parameters of our MLIP"
   ]
  },
  {
   "cell_type": "code",
   "execution_count": 15,
   "id": "01919e66-5f34-4c39-9b82-43fe05f54217",
   "metadata": {
    "tags": []
   },
   "outputs": [
    {
     "name": "stdout",
     "output_type": "stream",
     "text": [
      "Moment Tensor Potential\n",
      "Parameters:\n",
      "-----------\n",
      "energy coefficient :    1.0\n",
      "forces coefficient :    1.0\n",
      "stress coefficient :    1.0\n",
      "\n",
      "Descriptor:\n",
      "-----------\n",
      "level :                 8\n",
      "radial basis function : RBChebyshev\n",
      "Radial basis size :     8\n",
      "Minimum distance :      1.5\n",
      "Cutoff :                4.5\n",
      "\n"
     ]
    }
   ],
   "source": [
    "print(repr(mlip))"
   ]
  },
  {
   "cell_type": "markdown",
   "id": "34e3f187-fc26-4dcc-b80c-64c22aeda001",
   "metadata": {},
   "source": [
    "To train the model, we need now to add the configurations to the training set.\n",
    "\n",
    "This is done with the `update_matrices` function of the potential, that takes either an ASE atoms object or a list of atoms."
   ]
  },
  {
   "cell_type": "code",
   "execution_count": 16,
   "id": "0bc8646f-c6f1-4967-8d47-e6d2482dc0cc",
   "metadata": {
    "tags": []
   },
   "outputs": [],
   "source": [
    "mlip.update_matrices(configurations)"
   ]
  },
  {
   "cell_type": "markdown",
   "id": "a168e381-1273-48f2-8709-cf5c50baf297",
   "metadata": {},
   "source": [
    "The model can now be trained using the `train_mlip` function"
   ]
  },
  {
   "cell_type": "code",
   "execution_count": 17,
   "id": "4492dcfc-3fcc-452d-911a-7cae707f7ce3",
   "metadata": {
    "tags": []
   },
   "outputs": [
    {
     "name": "stdout",
     "output_type": "stream",
     "text": [
      "number of configurations for training: 10\n",
      "number of atomic environments for training: 640\n",
      "number of configurations for training: 10\n",
      "number of atomic environments for training: 640\n",
      "RMSE Energy    0.0018 eV/at\n",
      "MAE Energy     0.0013 eV/at\n",
      "RMSE Forces    0.0750 eV/angs\n",
      "MAE Forces     0.0562 eV/angs\n",
      "RMSE Stress    0.1406 GPa\n",
      "MAE Stress     0.1009 GPa\n",
      "\n",
      "\n"
     ]
    }
   ],
   "source": [
    "msg = mlip.train_mlip()\n",
    "print(msg)"
   ]
  },
  {
   "cell_type": "markdown",
   "id": "ff7166bf-4a34-4bac-9429-1ece630b6316",
   "metadata": {},
   "source": [
    "To check the accuracy of our MLIP, we can use the command line ```mlacs correlation``` to plot the correlation between DFT data and MLIP prediction."
   ]
  },
  {
   "cell_type": "code",
   "execution_count": 19,
   "id": "230f9452-6d89-4a90-9340-77a9656279b7",
   "metadata": {
    "tags": []
   },
   "outputs": [],
   "source": [
    "%%sh\n",
    "mlacs correlation MLIP-Energy_comparison.dat --size 10 --datatype energy --save EnergyCorrelation.jpeg --noshow\n",
    "mlacs correlation MLIP-Forces_comparison.dat --size 10 --datatype forces --save ForcesCorrelation.jpeg --noshow\n",
    "mlacs correlation MLIP-Stress_comparison.dat --size 10 --datatype stress --save StressCorrelation.jpeg --noshow"
   ]
  },
  {
   "cell_type": "markdown",
   "id": "a9dc29f5-3a6c-4f15-958c-e94de972a71f",
   "metadata": {
    "tags": []
   },
   "source": [
    "<img src=\"EnergyCorrelation.jpeg\" heigh=300 width=300>      <img src=\"ForcesCorrelation.jpeg\" heigh=300 width=300>      <img src=\"StressCorrelation.jpeg\" heigh=300 width=300>"
   ]
  },
  {
   "cell_type": "markdown",
   "id": "6a4f6f6c-c770-4857-8b99-9f68dabffb81",
   "metadata": {},
   "source": [
    "And that's it ! The model is ready to be used and can be found in the Snap directory. The pair_style and pair_coeff needed to use it in LAMMPS can be obtained from the mlip object"
   ]
  },
  {
   "cell_type": "code",
   "execution_count": 20,
   "id": "9b84aa09-e6fe-492f-82a5-b8793473ac56",
   "metadata": {
    "tags": []
   },
   "outputs": [
    {
     "name": "stdout",
     "output_type": "stream",
     "text": [
      "mlip /Users/alois/Documents/Physique/Work/Develop/mlacs/otf_mlacs/tutorials/Mlip/MomentTensorPotential/MTP/mlip.ini\n",
      "['* *']\n"
     ]
    }
   ],
   "source": [
    "print(mlip.pair_style)\n",
    "print(mlip.pair_coeff)"
   ]
  },
  {
   "cell_type": "markdown",
   "id": "9156a1e8-2159-4a50-ba56-75c952128dbf",
   "metadata": {},
   "source": [
    "Of course, in real applications the parameters and the size of the dataset will need to be different to obtain an accurate model."
   ]
  }
 ],
 "metadata": {
  "kernelspec": {
   "display_name": "Python 3 (ipykernel)",
   "language": "python",
   "name": "python3"
  },
  "language_info": {
   "codemirror_mode": {
    "name": "ipython",
    "version": 3
   },
   "file_extension": ".py",
   "mimetype": "text/x-python",
   "name": "python",
   "nbconvert_exporter": "python",
   "pygments_lexer": "ipython3",
   "version": "3.10.2"
  }
 },
 "nbformat": 4,
 "nbformat_minor": 5
}
